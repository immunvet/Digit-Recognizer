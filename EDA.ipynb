{
 "cells": [
  {
   "cell_type": "code",
   "execution_count": 1,
   "metadata": {},
   "outputs": [],
   "source": [
    "import numpy as np\n",
    "import matplotlib.pyplot as plt \n",
    "import pandas as pd \n",
    "from skimage.measure import label, regionprops"
   ]
  },
  {
   "cell_type": "code",
   "execution_count": 2,
   "metadata": {},
   "outputs": [],
   "source": [
    "#E:\\Pattern Recognition\\DigitRecognizer\\data\n",
    "\n",
    "\n",
    "images = np.load('/mnt/e/Pattern Recognition/DigitRecognizer/data/images.npy')\n",
    "labels = np.load('/mnt/e/Pattern Recognition/DigitRecognizer/data/labels.npy')\n",
    "\n"
   ]
  },
  {
   "cell_type": "code",
   "execution_count": 3,
   "metadata": {},
   "outputs": [
    {
     "data": {
      "text/plain": [
       "1    6742\n",
       "7    6265\n",
       "3    6131\n",
       "2    5958\n",
       "9    5949\n",
       "0    5923\n",
       "6    5918\n",
       "8    5851\n",
       "4    5842\n",
       "5    5421\n",
       "dtype: int64"
      ]
     },
     "execution_count": 3,
     "metadata": {},
     "output_type": "execute_result"
    }
   ],
   "source": [
    "pd.value_counts(pd.Series(labels))"
   ]
  },
  {
   "cell_type": "code",
   "execution_count": 4,
   "metadata": {
    "scrolled": true
   },
   "outputs": [
    {
     "name": "stdout",
     "output_type": "stream",
     "text": [
      "Correct label for this number is 5\n"
     ]
    },
    {
     "data": {
      "image/png": "[encoded data removed]",
      "text/plain": [
       "<Figure size 432x288 with 1 Axes>"
      ]
     },
     "metadata": {
      "needs_background": "light"
     },
     "output_type": "display_data"
    }
   ],
   "source": [
    "plt.imshow(images[679,:,:], cmap='gray')\n",
    "print('Correct label for this number is {}'.format(labels[679]))"
   ]
  },
  {
   "cell_type": "code",
   "execution_count": 5,
   "metadata": {},
   "outputs": [
    {
     "name": "stdout",
     "output_type": "stream",
     "text": [
      "<class 'numpy.ndarray'>\n",
      "0.0\n",
      "255.0\n",
      "float32\n",
      "(60000, 28, 28)\n"
     ]
    }
   ],
   "source": [
    "print(type(images))\n",
    "print(np.amin(images))\n",
    "print(np.amax(images))\n",
    "print(images[679,:,:].dtype)\n",
    "print(np.shape(images))"
   ]
  },
  {
   "cell_type": "markdown",
   "metadata": {},
   "source": [
    "#### Next step is to transfer dtype into uint8\n",
    "#### Then create a negative variant of array "
   ]
  },
  {
   "cell_type": "code",
   "execution_count": 6,
   "metadata": {},
   "outputs": [],
   "source": [
    "#transfer everything to uint8 \n",
    "\n",
    "im = np.empty(np.shape(images), dtype = 'uint8')\n",
    "im[:,:,:] = images[:,:,:]"
   ]
  },
  {
   "cell_type": "code",
   "execution_count": null,
   "metadata": {},
   "outputs": [],
   "source": [
    "#create negative array\n",
    "\n",
    "neg = np.empty(np.shape(im), dtype = 'uint8')\n",
    "neg[:,:,:] = 255-images[:,:,:]"
   ]
  },
  {
   "cell_type": "code",
   "execution_count": null,
   "metadata": {
    "scrolled": true
   },
   "outputs": [],
   "source": [
    "plt.imshow(neg[679,:,:], cmap='gray')"
   ]
  },
  {
   "cell_type": "markdown",
   "metadata": {},
   "source": [
    "#### Next step is to make thresholding of the image, in this case all pixels > than 100 will be black and < than 100 will be white"
   ]
  },
  {
   "cell_type": "code",
   "execution_count": 7,
   "metadata": {},
   "outputs": [],
   "source": [
    "thresh = np.empty(np.shape(images), dtype='uint8')\n",
    "thresh[images < 100] = 0 #black\n",
    "thresh[images > 100] = 1 #white"
   ]
  },
  {
   "cell_type": "code",
   "execution_count": 8,
   "metadata": {},
   "outputs": [
    {
     "data": {
      "text/plain": [
       "<matplotlib.image.AxesImage at 0x7fecf610c6a0>"
      ]
     },
     "execution_count": 8,
     "metadata": {},
     "output_type": "execute_result"
    },
    {
     "data": {
      "image/png": "[encoded data removed]",
      "text/plain": [
       "<Figure size 432x288 with 1 Axes>"
      ]
     },
     "metadata": {
      "needs_background": "light"
     },
     "output_type": "display_data"
    }
   ],
   "source": [
    "plt.imshow(thresh[555,:,:],cmap='gray')"
   ]
  },
  {
   "cell_type": "markdown",
   "metadata": {},
   "source": [
    "#### Exercises with resursion"
   ]
  },
  {
   "cell_type": "code",
   "execution_count": 9,
   "metadata": {
    "scrolled": true
   },
   "outputs": [
    {
     "name": "stdout",
     "output_type": "stream",
     "text": [
      "10\n",
      "9\n",
      "8\n",
      "7\n",
      "6\n",
      "5\n",
      "4\n",
      "3\n",
      "2\n",
      "1\n",
      "0\n",
      "That is all ... zero ...\n"
     ]
    }
   ],
   "source": [
    "#digit example\n",
    "\n",
    "def count_to_zero(n):\n",
    "    \n",
    "    print(n)\n",
    "    if n == 0:\n",
    "        print('That is all ... zero ...')\n",
    "        return 0\n",
    "    count_to_zero(n-1)\n",
    "    \n",
    "count_to_zero(10)"
   ]
  },
  {
   "cell_type": "code",
   "execution_count": null,
   "metadata": {},
   "outputs": [],
   "source": [
    "thresh.shape"
   ]
  },
  {
   "cell_type": "code",
   "execution_count": null,
   "metadata": {},
   "outputs": [],
   "source": [
    "#connected regions labeling\n",
    "import time\n",
    "start = time.time()\n",
    "def connected_regions(A):\n",
    "    im = label(A, background=1)\n",
    "    return im\n",
    "\n",
    "labeled_arr = np.zeros(thresh.shape, dtype='uint')\n",
    "\n",
    "for i,y in enumerate(thresh): \n",
    "    labeled_arr[i,:,:] = connected_regions(thresh[i,:,:])\n",
    "elapsed_time_fl = (time.time() - start) \n",
    "elapsed_time_fl"
   ]
  },
  {
   "cell_type": "code",
   "execution_count": null,
   "metadata": {},
   "outputs": [],
   "source": [
    "#vectorized function execution \n",
    "labeled_vect = np.zeros(thresh.shape, dtype='uint')\n",
    "%time labeled_vect[:,:,:] = connected_regions(thresh[:,:,:])"
   ]
  },
  {
   "cell_type": "code",
   "execution_count": null,
   "metadata": {},
   "outputs": [],
   "source": [
    "#Blackness ratio \n",
    "\n",
    "#bounding box finding\n",
    "#for one digit\n",
    "def bbox_coords(A):\n",
    "    \n",
    "    regions = regionprops(A) #A = labeled image\n",
    "    \n",
    "    \n",
    "    for props in regions: \n",
    "        \n",
    "        minr, minc, maxr, maxc = props.bbox\n",
    "        \n",
    "    return tuple(minr, minc, maxr, maxc)\n",
    "    \n",
    "\n",
    "#for one digit \n",
    "def blackness_ration(A,coordinates):\n",
    "    \n",
    "    patch = A[coordinates(0):coordinates(2), coordinates(1):coordinates(3)]\n",
    "    area_region=np.size(patch[patch==1])\n",
    "    area_bbox=np.size(patch)\n",
    "    blackness_ratio=area_region/area_bbox\n",
    "    \n",
    "    return blackness_ratio\n",
    "\n",
    "\n",
    "\n"
   ]
  },
  {
   "cell_type": "code",
   "execution_count": null,
   "metadata": {},
   "outputs": [],
   "source": [
    "#feature extraction\n",
    "def get_prop(A):\n",
    "    labeled_image = label(A, background=1)"
   ]
  },
  {
   "cell_type": "code",
   "execution_count": null,
   "metadata": {},
   "outputs": [],
   "source": [
    "#aspect ratio\n",
    "#one digit` matrix\n",
    "\n",
    "def aspect_ratio(coordinates): \n",
    "    \n",
    "    asp_ratio = (coordinates(3)-coordinates(1)+1) / (coordinates(2)-coordinates(0)+1)\n",
    "    return asp_ratio\n",
    "    \n",
    "\n",
    " \n",
    "    \n",
    "    "
   ]
  },
  {
   "cell_type": "code",
   "execution_count": null,
   "metadata": {},
   "outputs": [],
   "source": [
    "#number of holes\n"
   ]
  },
  {
   "cell_type": "code",
   "execution_count": 33,
   "metadata": {},
   "outputs": [
    {
     "data": {
      "text/plain": [
       "<matplotlib.image.AxesImage at 0x7fecf5e5e8d0>"
      ]
     },
     "execution_count": 33,
     "metadata": {},
     "output_type": "execute_result"
    },
    {
     "data": {
      "image/png": "[encoded data removed]",
      "text/plain": [
       "<Figure size 432x288 with 1 Axes>"
      ]
     },
     "metadata": {
      "needs_background": "light"
     },
     "output_type": "display_data"
    }
   ],
   "source": [
    "plt.imshow(thresh[1,:,:])"
   ]
  },
  {
   "cell_type": "code",
   "execution_count": 34,
   "metadata": {},
   "outputs": [],
   "source": [
    "image_label = label(thresh[1,:,:], background=-1)\n",
    "props = regionprops(image_label)\n",
    "\n",
    "#for props in a:\n",
    "   # minr, minc, maxr, maxc = props.bbox\n",
    "    \n"
   ]
  },
  {
   "cell_type": "code",
   "execution_count": 35,
   "metadata": {},
   "outputs": [
    {
     "data": {
      "text/plain": [
       "<matplotlib.image.AxesImage at 0x7fecf5e3b438>"
      ]
     },
     "execution_count": 35,
     "metadata": {},
     "output_type": "execute_result"
    },
    {
     "data": {
      "image/png": "[encoded data removed]",
      "text/plain": [
       "<Figure size 432x288 with 1 Axes>"
      ]
     },
     "metadata": {
      "needs_background": "light"
     },
     "output_type": "display_data"
    }
   ],
   "source": [
    "plt.imshow(image_label)"
   ]
  },
  {
   "cell_type": "code",
   "execution_count": 36,
   "metadata": {},
   "outputs": [
    {
     "data": {
      "text/plain": [
       "1"
      ]
     },
     "execution_count": 36,
     "metadata": {},
     "output_type": "execute_result"
    }
   ],
   "source": [
    "len(props)-2"
   ]
  },
  {
   "cell_type": "code",
   "execution_count": 28,
   "metadata": {},
   "outputs": [
    {
     "data": {
      "text/plain": [
       "280"
      ]
     },
     "execution_count": 28,
     "metadata": {},
     "output_type": "execute_result"
    }
   ],
   "source": [
    "props[1].bbox_area"
   ]
  }
 ],
 "metadata": {
  "kernelspec": {
   "display_name": "Python 3",
   "language": "python",
   "name": "python3"
  },
  "language_info": {
   "codemirror_mode": {
    "name": "ipython",
    "version": 3
   },
   "file_extension": ".py",
   "mimetype": "text/x-python",
   "name": "python",
   "nbconvert_exporter": "python",
   "pygments_lexer": "ipython3",
   "version": "3.7.0"
  }
 },
 "nbformat": 4,
 "nbformat_minor": 2
}
