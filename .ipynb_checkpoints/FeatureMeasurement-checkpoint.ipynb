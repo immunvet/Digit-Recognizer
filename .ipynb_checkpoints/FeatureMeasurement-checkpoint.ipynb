{
 "cells": [
  {
   "cell_type": "code",
   "execution_count": null,
   "metadata": {},
   "outputs": [],
   "source": [
    "import numpy as np\n",
    "import matplotlib.pyplot as plt\n",
    "import pandas as pd\n",
    "from skimage.measure import label, regionprops"
   ]
  },
  {
   "cell_type": "markdown",
   "metadata": {},
   "source": [
    "#### pre-processing and feature extraction functions"
   ]
  },
  {
   "cell_type": "code",
   "execution_count": 1,
   "metadata": {},
   "outputs": [],
   "source": [
    "# thresholding\n",
    "def thresh(a):\n",
    "    t = np.zeros(np.shape(a), dtype='uint8')\n",
    "    t[a < 100] = 0  # black\n",
    "    t[a > 100] = 1  # white\n",
    "    return t\n",
    "   \n",
    "# connected regions labeling\n",
    "def label_images(a):\n",
    "    image_label = label(a, background=-1)\n",
    "    props = regionprops(image_label)\n",
    "    return image_label, props\n",
    "\n",
    "# blackness ration feature\n",
    "def blackness_ratio(props):\n",
    "    black_ration = props[1].area / props[1].bbox_area\n",
    "    return black_ration\n",
    "\n",
    "# aspect ratio\n",
    "def aspect_ratio(props):\n",
    "    asp_ratio = (props[1].bbox[3] - props[1].bbox[1] + 1) / (props[1].bbox[2] - props[1].bbox[0] + 1)\n",
    "    return asp_ratio\n",
    "\n",
    "# number of holes\n",
    "def num_holes(props):\n",
    "    holes = len(props) - 2\n",
    "    return holes"
   ]
  },
  {
   "cell_type": "code",
   "execution_count": null,
   "metadata": {},
   "outputs": [],
   "source": []
  },
  {
   "cell_type": "code",
   "execution_count": null,
   "metadata": {},
   "outputs": [],
   "source": []
  },
  {
   "cell_type": "code",
   "execution_count": null,
   "metadata": {},
   "outputs": [],
   "source": []
  },
  {
   "cell_type": "code",
   "execution_count": null,
   "metadata": {},
   "outputs": [],
   "source": []
  },
  {
   "cell_type": "code",
   "execution_count": null,
   "metadata": {},
   "outputs": [],
   "source": []
  },
  {
   "cell_type": "code",
   "execution_count": null,
   "metadata": {},
   "outputs": [],
   "source": []
  },
  {
   "cell_type": "code",
   "execution_count": null,
   "metadata": {},
   "outputs": [],
   "source": []
  }
 ],
 "metadata": {
  "kernelspec": {
   "display_name": "Python 3",
   "language": "python",
   "name": "python3"
  },
  "language_info": {
   "codemirror_mode": {
    "name": "ipython",
    "version": 3
   },
   "file_extension": ".py",
   "mimetype": "text/x-python",
   "name": "python",
   "nbconvert_exporter": "python",
   "pygments_lexer": "ipython3",
   "version": "3.7.0"
  }
 },
 "nbformat": 4,
 "nbformat_minor": 2
}
